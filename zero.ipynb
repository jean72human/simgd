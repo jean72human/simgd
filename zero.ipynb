{
 "cells": [
  {
   "cell_type": "code",
   "execution_count": 1,
   "metadata": {},
   "outputs": [],
   "source": [
    "import torch \n",
    "import torch.nn as nn\n",
    "import torchvision"
   ]
  },
  {
   "cell_type": "code",
   "execution_count": 2,
   "metadata": {},
   "outputs": [
    {
     "data": {
      "text/plain": [
       "'1.9.1'"
      ]
     },
     "execution_count": 2,
     "metadata": {},
     "output_type": "execute_result"
    }
   ],
   "source": [
    "torch.__version__"
   ]
  },
  {
   "cell_type": "code",
   "execution_count": 3,
   "metadata": {},
   "outputs": [],
   "source": [
    "from simgd.deepnets1m.graph import Graph, GraphBatch\n",
    "from simgd.ghn.nn import GHN"
   ]
  },
  {
   "cell_type": "code",
   "execution_count": 13,
   "metadata": {},
   "outputs": [],
   "source": [
    "model = nn.Sequential(\n",
    "        nn.Conv2d(3, 1, kernel_size=(3, 3), stride=(1, 1), padding=(1, 1)),\n",
    "        nn.ReLU(),\n",
    "        nn.Flatten(),\n",
    "        nn.Linear(32*32,64),\n",
    "        nn.ReLU(),\n",
    "        nn.Linear(64,10)\n",
    ")\n",
    "\n",
    "#model = nn.Sequential(\n",
    "#        nn.Conv2d(3, 3, kernel_size=(3, 3), stride=(1, 1), padding=(1, 1)),\n",
    "#        nn.ReLU(),\n",
    "#        nn.Conv2d(3, 3, kernel_size=(3, 3), stride=(1, 1), padding=(1, 1)),\n",
    "#        nn.ReLU(),\n",
    "#        nn.Conv2d(3, 1, kernel_size=(3, 3), stride=(1, 1), padding=(1, 1)),\n",
    "#        nn.ReLU(),\n",
    "#        nn.Flatten(),\n",
    "#        nn.Linear(32*32,10)\n",
    "#)\n",
    "model.expected_image_sz = (32,32)"
   ]
  },
  {
   "cell_type": "code",
   "execution_count": 15,
   "metadata": {},
   "outputs": [
    {
     "data": {
      "image/png": "[encoded data removed]",
      "text/plain": [
       "<Figure size 720x720 with 1 Axes>"
      ]
     },
     "metadata": {},
     "output_type": "display_data"
    }
   ],
   "source": [
    "g = Graph(model)\n",
    "g.visualize()\n",
    "#gb = GraphBatch([g])\n",
    "g.edges = torch.cat([g.edges,torch.zeros((g.edges.size(0),1))],dim=1).long()\n",
    "g.node_feat = torch.cat([g.node_feat,torch.zeros((g.node_feat.size(0),1))],dim=1)"
   ]
  },
  {
   "cell_type": "code",
   "execution_count": 7,
   "metadata": {},
   "outputs": [],
   "source": [
    "ghn = GHN([1024,1024,5,5],10)"
   ]
  },
  {
   "cell_type": "code",
   "execution_count": 16,
   "metadata": {},
   "outputs": [],
   "source": [
    "outs = ghn(model,g)"
   ]
  },
  {
   "cell_type": "code",
   "execution_count": 17,
   "metadata": {},
   "outputs": [
    {
     "name": "stdout",
     "output_type": "stream",
     "text": [
      "torch.Size([1, 3, 3, 3])\n",
      "torch.Size([1])\n",
      "torch.Size([64, 1024])\n",
      "torch.Size([64])\n",
      "torch.Size([10, 64])\n",
      "torch.Size([10])\n"
     ]
    }
   ],
   "source": [
    "for o in outs:\n",
    "    print(o.shape)"
   ]
  },
  {
   "cell_type": "code",
   "execution_count": null,
   "metadata": {},
   "outputs": [],
   "source": [
    "optim = torch.optim.SGD(model.parameters(),lr=0)"
   ]
  },
  {
   "cell_type": "code",
   "execution_count": null,
   "metadata": {},
   "outputs": [],
   "source": [
    "loss = torch.nn.CrossEntropyLoss()(model(torch.rand((1,3,32,32))),torch.rand((1,10)).argmax(1))\n",
    "loss.backward()"
   ]
  },
  {
   "cell_type": "code",
   "execution_count": null,
   "metadata": {},
   "outputs": [
    {
     "name": "stdout",
     "output_type": "stream",
     "text": [
      "torch.Size([3, 3, 3, 3])\n",
      "torch.Size([3])\n",
      "torch.Size([3, 3, 3, 3])\n",
      "torch.Size([3])\n",
      "torch.Size([1, 3, 3, 3])\n",
      "torch.Size([1])\n",
      "torch.Size([10, 1024])\n",
      "torch.Size([10])\n"
     ]
    }
   ],
   "source": [
    "for p in model.parameters():\n",
    "    print(p.grad.shape)"
   ]
  },
  {
   "cell_type": "code",
   "execution_count": null,
   "metadata": {},
   "outputs": [],
   "source": [
    "from src.ghn.encoder import MLPEncoder\n",
    "from src.ghn.decoder import MLPDecoder"
   ]
  },
  {
   "cell_type": "code",
   "execution_count": null,
   "metadata": {},
   "outputs": [],
   "source": [
    "conv_enc = MLPEncoder([3, 3, 3, 3])\n",
    "conv_dec = MLPDecoder([3, 3, 3, 3])\n",
    "bias_enc = nn.Linear(3,32)\n",
    "bias_dec = nn.Linear(32,3)\n",
    "linear_enc = MLPEncoder([1024,1024])\n",
    "linear_dec = MLPDecoder([1024,1024])"
   ]
  },
  {
   "cell_type": "code",
   "execution_count": null,
   "metadata": {},
   "outputs": [
    {
     "data": {
      "text/plain": [
       "4"
      ]
     },
     "execution_count": 22,
     "metadata": {},
     "output_type": "execute_result"
    }
   ],
   "source": [
    "model.state_dict()[\"2.weight\"].ndimension()"
   ]
  },
  {
   "cell_type": "code",
   "execution_count": null,
   "metadata": {},
   "outputs": [
    {
     "data": {
      "text/plain": [
       "torch.Size([32])"
      ]
     },
     "execution_count": 11,
     "metadata": {},
     "output_type": "execute_result"
    }
   ],
   "source": [
    "var = conv_enc(model.state_dict()[\"2.weight\"].flatten())\n",
    "var.shape"
   ]
  },
  {
   "cell_type": "code",
   "execution_count": null,
   "metadata": {},
   "outputs": [
    {
     "data": {
      "text/plain": [
       "torch.Size([3, 3, 3, 3])"
      ]
     },
     "execution_count": 12,
     "metadata": {},
     "output_type": "execute_result"
    }
   ],
   "source": [
    "conv_dec(var).shape"
   ]
  },
  {
   "cell_type": "code",
   "execution_count": null,
   "metadata": {},
   "outputs": [
    {
     "data": {
      "text/plain": [
       "['input',\n",
       " '0.weight',\n",
       " '0.bias',\n",
       " '2.weight',\n",
       " '2.bias',\n",
       " '4.weight',\n",
       " '4.bias',\n",
       " '7.weight',\n",
       " '7.bias']"
      ]
     },
     "execution_count": 18,
     "metadata": {},
     "output_type": "execute_result"
    }
   ],
   "source": [
    "g.node_params"
   ]
  },
  {
   "cell_type": "code",
   "execution_count": null,
   "metadata": {},
   "outputs": [
    {
     "data": {
      "text/plain": [
       "[[(1, '0.weight', 'conv', torch.Size([3, 3, 3, 3]), False, False),\n",
       "  (2, '0.bias', 'bias', torch.Size([3]), False, False),\n",
       "  (3, '2.weight', 'conv', torch.Size([3, 3, 3, 3]), False, False),\n",
       "  (4, '2.bias', 'bias', torch.Size([3]), False, False),\n",
       "  (5, '4.weight', 'conv', torch.Size([1, 3, 3, 3]), False, False),\n",
       "  (6, '4.bias', 'bias', torch.Size([1]), False, False),\n",
       "  (7, '7.weight', 'conv', torch.Size([10, 1024]), True, False),\n",
       "  (8, '7.bias', 'bias', torch.Size([10]), False, True)]]"
      ]
     },
     "execution_count": 14,
     "metadata": {},
     "output_type": "execute_result"
    }
   ],
   "source": [
    "g.node_info"
   ]
  },
  {
   "cell_type": "code",
   "execution_count": null,
   "metadata": {},
   "outputs": [
    {
     "data": {
      "text/plain": [
       "torch.Size([9, 9])"
      ]
     },
     "execution_count": 15,
     "metadata": {},
     "output_type": "execute_result"
    }
   ],
   "source": [
    "g._Adj.shape"
   ]
  },
  {
   "cell_type": "code",
   "execution_count": null,
   "metadata": {},
   "outputs": [
    {
     "data": {
      "text/plain": [
       "9"
      ]
     },
     "execution_count": 16,
     "metadata": {},
     "output_type": "execute_result"
    }
   ],
   "source": [
    "len(g._nodes)"
   ]
  },
  {
   "cell_type": "code",
   "execution_count": null,
   "metadata": {},
   "outputs": [
    {
     "data": {
      "text/plain": [
       "2"
      ]
     },
     "execution_count": 27,
     "metadata": {},
     "output_type": "execute_result"
    }
   ],
   "source": [
    "torch.zeros((2,3)).size(0)"
   ]
  }
 ],
 "metadata": {
  "interpreter": {
   "hash": "86309a0e28753c2c95f2b039efc18c065f8a339af605be0a493560a23930ad91"
  },
  "kernelspec": {
   "display_name": "Python 3.7.11 64-bit ('thesis_sim_grad': conda)",
   "name": "python3"
  },
  "language_info": {
   "codemirror_mode": {
    "name": "ipython",
    "version": 3
   },
   "file_extension": ".py",
   "mimetype": "text/x-python",
   "name": "python",
   "nbconvert_exporter": "python",
   "pygments_lexer": "ipython3",
   "version": "3.7.11"
  },
  "orig_nbformat": 4
 },
 "nbformat": 4,
 "nbformat_minor": 2
}
