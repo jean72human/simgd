{
 "cells": [
  {
   "cell_type": "code",
   "execution_count": 1,
   "metadata": {},
   "outputs": [],
   "source": [
    "import torch \n",
    "import torch.nn as nn\n",
    "import torchvision\n",
    "import torch.nn.functional as F"
   ]
  },
  {
   "cell_type": "code",
   "execution_count": 2,
   "metadata": {},
   "outputs": [
    {
     "data": {
      "text/plain": [
       "'1.9.1'"
      ]
     },
     "execution_count": 2,
     "metadata": {},
     "output_type": "execute_result"
    }
   ],
   "source": [
    "torch.__version__"
   ]
  },
  {
   "cell_type": "code",
   "execution_count": 3,
   "metadata": {},
   "outputs": [],
   "source": [
    "from simgd.deepnets1m.graph import Graph, GraphBatch\n",
    "from simgd.ghn.nn import GHN"
   ]
  },
  {
   "cell_type": "code",
   "execution_count": 4,
   "metadata": {},
   "outputs": [],
   "source": [
    "class Net(nn.Module):\n",
    "    def __init__(self,channels=32):\n",
    "        super(Net, self).__init__()\n",
    "        self.conv1 = nn.Conv2d(1, channels, kernel_size=5)\n",
    "        self.conv2 = nn.Conv2d(channels, 20, kernel_size=5)\n",
    "        self.conv2_drop = nn.Dropout2d()\n",
    "        self.fc1 = nn.Linear(320, 50)\n",
    "        self.fc2 = nn.Linear(50, 10)\n",
    "\n",
    "    def forward(self, x):\n",
    "        x = F.relu(F.max_pool2d(self.conv1(x), 2))\n",
    "        x = F.relu(F.max_pool2d(self.conv2_drop(self.conv2(x)), 2))\n",
    "        x = x.view(-1, 320)\n",
    "        x = F.relu(self.fc1(x))\n",
    "        x = F.dropout(x, training=self.training)\n",
    "        x = self.fc2(x)\n",
    "        return F.log_softmax(x)"
   ]
  },
  {
   "cell_type": "code",
   "execution_count": 5,
   "metadata": {},
   "outputs": [],
   "source": [
    "model = Net()\n",
    "\n",
    "#model = nn.Sequential(\n",
    "#        nn.Conv2d(3, 3, kernel_size=(3, 3), stride=(1, 1), padding=(1, 1)),\n",
    "#        nn.ReLU(),\n",
    "#        nn.Conv2d(3, 3, kernel_size=(3, 3), stride=(1, 1), padding=(1, 1)),\n",
    "#        nn.ReLU(),\n",
    "#        nn.Conv2d(3, 1, kernel_size=(3, 3), stride=(1, 1), padding=(1, 1)),\n",
    "#        nn.ReLU(),\n",
    "#        nn.Flatten(),\n",
    "#        nn.Linear(32*32,10)\n",
    "#)\n",
    "model.expected_image_sz = (1,28,28)"
   ]
  },
  {
   "cell_type": "code",
   "execution_count": 6,
   "metadata": {},
   "outputs": [
    {
     "name": "stderr",
     "output_type": "stream",
     "text": [
      "/Users/jean72human/anaconda3/envs/thesis_sim_grad/lib/python3.7/site-packages/ipykernel_launcher.py:17: UserWarning: Implicit dimension choice for log_softmax has been deprecated. Change the call to include dim=X as an argument.\n"
     ]
    },
    {
     "data": {
      "image/png": "[encoded data removed]",
      "text/plain": [
       "<Figure size 720x720 with 1 Axes>"
      ]
     },
     "metadata": {},
     "output_type": "display_data"
    }
   ],
   "source": [
    "g = Graph(model)\n",
    "g.visualize()"
   ]
  },
  {
   "cell_type": "code",
   "execution_count": 7,
   "metadata": {},
   "outputs": [],
   "source": [
    "ghn = GHN([512,512,5,5],10,backmul=True)"
   ]
  },
  {
   "cell_type": "code",
   "execution_count": 8,
   "metadata": {},
   "outputs": [],
   "source": [
    "outs = ghn(model,g)"
   ]
  },
  {
   "cell_type": "code",
   "execution_count": 9,
   "metadata": {},
   "outputs": [
    {
     "name": "stdout",
     "output_type": "stream",
     "text": [
      "tensor(2.8589, grad_fn=<CopyBackwards>)\n",
      "tensor(0.9739, grad_fn=<CopyBackwards>)\n",
      "tensor(12.5653, grad_fn=<CopyBackwards>)\n",
      "tensor(0.7477, grad_fn=<CopyBackwards>)\n",
      "tensor(33.5525, grad_fn=<CopyBackwards>)\n",
      "tensor(1.3534, grad_fn=<CopyBackwards>)\n",
      "tensor(5.6510, grad_fn=<CopyBackwards>)\n",
      "tensor(0.2377, grad_fn=<CopyBackwards>)\n"
     ]
    }
   ],
   "source": [
    "for o in outs.values():\n",
    "    print(o.norm())"
   ]
  },
  {
   "cell_type": "code",
   "execution_count": 15,
   "metadata": {},
   "outputs": [
    {
     "data": {
      "text/plain": [
       "11"
      ]
     },
     "execution_count": 15,
     "metadata": {},
     "output_type": "execute_result"
    }
   ],
   "source": [
    "g.n_nodes"
   ]
  },
  {
   "cell_type": "code",
   "execution_count": 17,
   "metadata": {},
   "outputs": [
    {
     "data": {
      "text/plain": [
       "[('input', 'input'),\n",
       " ('conv', 'conv1.weight'),\n",
       " ('bias', 'conv1.bias'),\n",
       " ('max_pool', 'MaxPool2DWithIndicesBackward'),\n",
       " ('conv', 'conv2.weight'),\n",
       " ('bias', 'conv2.bias'),\n",
       " ('max_pool', 'MaxPool2DWithIndicesBackward'),\n",
       " ('conv', 'fc1.weight'),\n",
       " ('bias', 'fc1.bias'),\n",
       " ('conv', 'fc2.weight'),\n",
       " ('bias', 'fc2.bias')]"
      ]
     },
     "execution_count": 17,
     "metadata": {},
     "output_type": "execute_result"
    }
   ],
   "source": [
    "g.node_params"
   ]
  },
  {
   "cell_type": "code",
   "execution_count": null,
   "metadata": {},
   "outputs": [],
   "source": [
    "loss = torch.nn.CrossEntropyLoss()(model(torch.rand((1,3,32,32))),torch.rand((1,10)).argmax(1))\n",
    "loss.backward()"
   ]
  },
  {
   "cell_type": "code",
   "execution_count": null,
   "metadata": {},
   "outputs": [
    {
     "name": "stdout",
     "output_type": "stream",
     "text": [
      "torch.Size([3, 3, 3, 3])\n",
      "torch.Size([3])\n",
      "torch.Size([3, 3, 3, 3])\n",
      "torch.Size([3])\n",
      "torch.Size([1, 3, 3, 3])\n",
      "torch.Size([1])\n",
      "torch.Size([10, 1024])\n",
      "torch.Size([10])\n"
     ]
    }
   ],
   "source": [
    "for p in model.parameters():\n",
    "    print(p.grad.shape)"
   ]
  },
  {
   "cell_type": "code",
   "execution_count": 5,
   "metadata": {},
   "outputs": [],
   "source": [
    "from simgd.ghn.encoder import MLPEncoder, ConvEncoder\n",
    "from simgd.ghn.decoder import MLPDecoder, ConvDecoder"
   ]
  },
  {
   "cell_type": "code",
   "execution_count": 6,
   "metadata": {},
   "outputs": [],
   "source": [
    "conv_enc = ConvEncoder([3, 3, 3, 3])\n",
    "conv_dec = ConvDecoder([3, 3, 3, 3])\n",
    "bias_enc = nn.Linear(3,32)\n",
    "bias_dec = nn.Linear(32,3)\n",
    "linear_enc = MLPEncoder([1024,1024])\n",
    "linear_dec = MLPDecoder([1024,1024])"
   ]
  },
  {
   "cell_type": "code",
   "execution_count": 7,
   "metadata": {},
   "outputs": [
    {
     "data": {
      "text/plain": [
       "torch.Size([1, 3, 3, 3])"
      ]
     },
     "execution_count": 7,
     "metadata": {},
     "output_type": "execute_result"
    }
   ],
   "source": [
    "model.state_dict()[\"0.weight\"].shape"
   ]
  },
  {
   "cell_type": "code",
   "execution_count": 8,
   "metadata": {},
   "outputs": [
    {
     "data": {
      "text/plain": [
       "torch.Size([4096, 3, 3])"
      ]
     },
     "execution_count": 8,
     "metadata": {},
     "output_type": "execute_result"
    }
   ],
   "source": [
    "var = torch.zeros([64,64,3,3])\n",
    "var.view(-1,*var.shape[2:]).shape"
   ]
  },
  {
   "cell_type": "code",
   "execution_count": 9,
   "metadata": {},
   "outputs": [
    {
     "data": {
      "text/plain": [
       "torch.Size([32])"
      ]
     },
     "execution_count": 9,
     "metadata": {},
     "output_type": "execute_result"
    }
   ],
   "source": [
    "nn.Linear(1152,32)(nn.Conv2d(4096, 128, 1)(torch.zeros([4096,3,3]).unsqueeze(0)).view(-1)).shape"
   ]
  },
  {
   "cell_type": "code",
   "execution_count": 10,
   "metadata": {},
   "outputs": [
    {
     "name": "stdout",
     "output_type": "stream",
     "text": [
      "torch.Size([1152])\n"
     ]
    },
    {
     "data": {
      "text/plain": [
       "torch.Size([32])"
      ]
     },
     "execution_count": 10,
     "metadata": {},
     "output_type": "execute_result"
    }
   ],
   "source": [
    "var = conv_enc(torch.zeros([3,3,3,3]))\n",
    "var.shape"
   ]
  },
  {
   "cell_type": "code",
   "execution_count": 11,
   "metadata": {},
   "outputs": [
    {
     "data": {
      "text/plain": [
       "torch.Size([3, 3, 3, 3])"
      ]
     },
     "execution_count": 11,
     "metadata": {},
     "output_type": "execute_result"
    }
   ],
   "source": [
    "conv_dec(var).shape"
   ]
  },
  {
   "cell_type": "code",
   "execution_count": null,
   "metadata": {},
   "outputs": [
    {
     "data": {
      "text/plain": [
       "['input',\n",
       " '0.weight',\n",
       " '0.bias',\n",
       " '2.weight',\n",
       " '2.bias',\n",
       " '4.weight',\n",
       " '4.bias',\n",
       " '7.weight',\n",
       " '7.bias']"
      ]
     },
     "execution_count": 18,
     "metadata": {},
     "output_type": "execute_result"
    }
   ],
   "source": [
    "g.node_params"
   ]
  },
  {
   "cell_type": "code",
   "execution_count": null,
   "metadata": {},
   "outputs": [
    {
     "data": {
      "text/plain": [
       "[[(1, '0.weight', 'conv', torch.Size([3, 3, 3, 3]), False, False),\n",
       "  (2, '0.bias', 'bias', torch.Size([3]), False, False),\n",
       "  (3, '2.weight', 'conv', torch.Size([3, 3, 3, 3]), False, False),\n",
       "  (4, '2.bias', 'bias', torch.Size([3]), False, False),\n",
       "  (5, '4.weight', 'conv', torch.Size([1, 3, 3, 3]), False, False),\n",
       "  (6, '4.bias', 'bias', torch.Size([1]), False, False),\n",
       "  (7, '7.weight', 'conv', torch.Size([10, 1024]), True, False),\n",
       "  (8, '7.bias', 'bias', torch.Size([10]), False, True)]]"
      ]
     },
     "execution_count": 14,
     "metadata": {},
     "output_type": "execute_result"
    }
   ],
   "source": [
    "g.node_info"
   ]
  },
  {
   "cell_type": "code",
   "execution_count": null,
   "metadata": {},
   "outputs": [
    {
     "data": {
      "text/plain": [
       "torch.Size([9, 9])"
      ]
     },
     "execution_count": 15,
     "metadata": {},
     "output_type": "execute_result"
    }
   ],
   "source": [
    "g._Adj.shape"
   ]
  },
  {
   "cell_type": "code",
   "execution_count": null,
   "metadata": {},
   "outputs": [
    {
     "data": {
      "text/plain": [
       "9"
      ]
     },
     "execution_count": 16,
     "metadata": {},
     "output_type": "execute_result"
    }
   ],
   "source": [
    "len(g._nodes)"
   ]
  },
  {
   "cell_type": "code",
   "execution_count": null,
   "metadata": {},
   "outputs": [
    {
     "data": {
      "text/plain": [
       "2"
      ]
     },
     "execution_count": 27,
     "metadata": {},
     "output_type": "execute_result"
    }
   ],
   "source": [
    "torch.zeros((2,3)).size(0)"
   ]
  }
 ],
 "metadata": {
  "interpreter": {
   "hash": "86309a0e28753c2c95f2b039efc18c065f8a339af605be0a493560a23930ad91"
  },
  "kernelspec": {
   "display_name": "Python 3.7.11 64-bit ('thesis_sim_grad': conda)",
   "name": "python3"
  },
  "language_info": {
   "codemirror_mode": {
    "name": "ipython",
    "version": 3
   },
   "file_extension": ".py",
   "mimetype": "text/x-python",
   "name": "python",
   "nbconvert_exporter": "python",
   "pygments_lexer": "ipython3",
   "version": "3.7.11"
  },
  "orig_nbformat": 4
 },
 "nbformat": 4,
 "nbformat_minor": 2
}
